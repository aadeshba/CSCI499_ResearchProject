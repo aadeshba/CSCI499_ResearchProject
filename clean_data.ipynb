{
 "cells": [
  {
   "cell_type": "code",
   "execution_count": 1,
   "metadata": {},
   "outputs": [],
   "source": [
    "import json\n",
    "from io import open\n",
    "\n",
    "# Path to the .jsonl file\n",
    "file_path = \"2020_acl_diplomacy/data/train.jsonl\"\n",
    "diplomacy_data = {}\n",
    "\n",
    "with open(file_path, 'r') as file:\n",
    "    i = 0\n",
    "    for line in file:\n",
    "        # Parse the line as JSON\n",
    "        diplomacy_data[i] = json.loads(line)\n",
    "        i+=1\n",
    "\n",
    "\n"
   ]
  },
  {
   "cell_type": "code",
   "execution_count": 7,
   "metadata": {},
   "outputs": [
    {
     "name": "stdout",
     "output_type": "stream",
     "text": [
      "Key:  messages\n",
      "Key:  sender_labels\n",
      "Key:  receiver_labels\n",
      "Key:  speakers\n",
      "Key:  receivers\n",
      "Key:  absolute_message_index\n",
      "Key:  relative_message_index\n",
      "Key:  seasons\n",
      "Key:  years\n",
      "Key:  game_score\n",
      "Key:  game_score_delta\n",
      "Key:  players\n",
      "Key:  game_id\n",
      "Gahhh I’m Italy fuck my life\n",
      "Non aggression pact for these first two turns?  Seems to me we both have other things to work about.  Lmk what you’re thinking.\n",
      "Sounds good with me\n",
      "Cool.  So no moves towards each other?\n",
      "Yeah that's right. I'm not moving into Piedmont\n",
      "Rgr- neither will I\n",
      "Sounds good with me\n",
      "You can take Tunis and we can demilitarize the Western Med area while we deal with our more pressing concerns\n",
      "For sure man.  I think we got other stuff going on lol\n",
      "Was that bounce with France on purpose?\n",
      "*germany my b\n",
      "I thought he;d move into Ruhr like normal, but it wasnt too bad for me\n",
      "Should’ve stabbed austria\n",
      "Fu kkk I’m so screwed\n",
      "If you send your armies west uou don’t have to be\n",
      "I’ve no desire for an internecine conflict\n",
      "Cool cool I’m tracking.  You’re probably going after Germany then?\n",
      "Hey what’s up\n"
     ]
    }
   ],
   "source": [
    "# print(len(diplomacy_data))\n",
    "for key, value in diplomacy_data[27].items():\n",
    "    print(\"Key: \", key)\n",
    "messages_1= diplomacy_data[26][\"messages\"]\n",
    "for message in messages_1:\n",
    "    print(message)\n"
   ]
  }
 ],
 "metadata": {
  "kernelspec": {
   "display_name": "Python 3",
   "language": "python",
   "name": "python3"
  },
  "language_info": {
   "codemirror_mode": {
    "name": "ipython",
    "version": 3
   },
   "file_extension": ".py",
   "mimetype": "text/x-python",
   "name": "python",
   "nbconvert_exporter": "python",
   "pygments_lexer": "ipython3",
   "version": "3.9.12"
  },
  "orig_nbformat": 4
 },
 "nbformat": 4,
 "nbformat_minor": 2
}
